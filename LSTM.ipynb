{
  "nbformat": 4,
  "nbformat_minor": 0,
  "metadata": {
    "colab": {
      "name": "LSTM.ipynb",
      "provenance": [],
      "collapsed_sections": [],
      "authorship_tag": "ABX9TyNK27sFaXFUTXS0ybZjL6Dl",
      "include_colab_link": true
    },
    "kernelspec": {
      "name": "python3",
      "display_name": "Python 3"
    }
  },
  "cells": [
    {
      "cell_type": "markdown",
      "metadata": {
        "id": "view-in-github",
        "colab_type": "text"
      },
      "source": [
        "<a href=\"https://colab.research.google.com/github/LavanyaSrini/NLP/blob/master/LSTM.ipynb\" target=\"_parent\"><img src=\"https://colab.research.google.com/assets/colab-badge.svg\" alt=\"Open In Colab\"/></a>"
      ]
    },
    {
      "cell_type": "markdown",
      "metadata": {
        "id": "EQr7Vds-a770",
        "colab_type": "text"
      },
      "source": [
        "Text Classification"
      ]
    },
    {
      "cell_type": "markdown",
      "metadata": {
        "id": "KLyCobKvxrWx",
        "colab_type": "text"
      },
      "source": [
        "Sacasam Dataset without LSTM"
      ]
    },
    {
      "cell_type": "code",
      "metadata": {
        "id": "Tpr6oP7bxlI4",
        "colab_type": "code",
        "colab": {}
      },
      "source": [
        "import tensorflow as tf\n",
        "from tensorflow.keras.preprocessing.sequence import pad_sequences\n",
        "from tensorflow.keras.layers import Embedding, LSTM, Dense, Bidirectional\n",
        "from tensorflow.keras.preprocessing.text import Tokenizer\n",
        "from tensorflow.keras.models import Sequential\n",
        "from tensorflow.keras.optimizers import Adam\n",
        "import numpy as np"
      ],
      "execution_count": 23,
      "outputs": []
    },
    {
      "cell_type": "code",
      "metadata": {
        "id": "w5HTIZyi3YBu",
        "colab_type": "code",
        "colab": {
          "base_uri": "https://localhost:8080/",
          "height": 193
        },
        "outputId": "2182bd12-6e9b-4626-dc8f-7f414cf38142"
      },
      "source": [
        "import json\n",
        "import requests\n",
        "\n",
        "\n",
        "datastore = requests.get('https://storage.googleapis.com/laurencemoroney-blog.appspot.com/sarcasm.json')\n",
        "print(datastore.text[0:450])\n",
        "sentences = []\n",
        "labels = []\n",
        "urls = []\n",
        "\n",
        "for item in datastore.json():\n",
        "    sentences.append(item['headline'])\n",
        "    labels.append(item['is_sarcastic'])\n",
        "    urls.append(item['article_link'])\n",
        "\n",
        "tokenizer=Tokenizer(oov_token=\"<00v>\")\n",
        "tokenizer.fit_on_texts(sentences)\n",
        "word_index =tokenizer.word_index\n",
        "#print(word_index)\n",
        "Seq=tokenizer.texts_to_sequences(sentences)\n",
        "padded=pad_sequences(Seq , padding='post')\n",
        "print(Seq[0])\n",
        "print(padded[0])\n",
        "print(padded.shape)"
      ],
      "execution_count": 24,
      "outputs": [
        {
          "output_type": "stream",
          "text": [
            "[\r\n",
            "{\"article_link\": \"https://www.huffingtonpost.com/entry/versace-black-code_us_5861fbefe4b0de3a08f600d5\", \"headline\": \"former versace store clerk sues over secret 'black code' for minority shoppers\", \"is_sarcastic\": 0},\r\n",
            "{\"article_link\": \"https://www.huffingtonpost.com/entry/roseanne-revival-review_us_5ab3a497e4b054d118e04365\", \"headline\": \"the 'roseanne' revival catches up to our thorny political mood, for better and worse\", \"is_sarcastic\": 0},\n",
            "[308, 15115, 679, 3337, 2298, 48, 382, 2576, 15116, 6, 2577, 8434]\n",
            "[  308 15115   679  3337  2298    48   382  2576 15116     6  2577  8434\n",
            "     0     0     0     0     0     0     0     0     0     0     0     0\n",
            "     0     0     0     0     0     0     0     0     0     0     0     0\n",
            "     0     0     0     0]\n",
            "(26709, 40)\n"
          ],
          "name": "stdout"
        }
      ]
    },
    {
      "cell_type": "code",
      "metadata": {
        "id": "L-CeaPRZ3igt",
        "colab_type": "code",
        "colab": {
          "base_uri": "https://localhost:8080/",
          "height": 52
        },
        "outputId": "8f2fb422-fdb4-4e57-fbf8-881cf6003575"
      },
      "source": [
        "training_size = round(len(sentences) * .75)\n",
        "print(training_size)\n",
        "print(len(sentences))"
      ],
      "execution_count": 25,
      "outputs": [
        {
          "output_type": "stream",
          "text": [
            "20032\n",
            "26709\n"
          ],
          "name": "stdout"
        }
      ]
    },
    {
      "cell_type": "code",
      "metadata": {
        "id": "TU5IQvfE3mmx",
        "colab_type": "code",
        "colab": {}
      },
      "source": [
        "training_sentences = sentences[0:training_size]\n",
        "testing_sentences = sentences[training_size:]\n",
        "training_labels = labels[0:training_size]\n",
        "testing_labels = labels[training_size:]"
      ],
      "execution_count": 26,
      "outputs": []
    },
    {
      "cell_type": "code",
      "metadata": {
        "id": "tSNK_gCB3opU",
        "colab_type": "code",
        "colab": {}
      },
      "source": [
        "tokenizer = Tokenizer(10000,oov_token='oov_tok')\n",
        "tokenizer.fit_on_texts(training_sentences)"
      ],
      "execution_count": 27,
      "outputs": []
    },
    {
      "cell_type": "code",
      "metadata": {
        "id": "L1NrL8Dg3skU",
        "colab_type": "code",
        "colab": {}
      },
      "source": [
        "training_sequences = tokenizer.texts_to_sequences(training_sentences)\n",
        "training_padded = pad_sequences(training_sequences, maxlen= 100, padding='post', truncating='post')\n",
        "testing_sequences = tokenizer.texts_to_sequences(testing_sentences)\n",
        "testing_padded = pad_sequences(testing_sequences, maxlen= 100, padding='post', truncating='post')"
      ],
      "execution_count": 28,
      "outputs": []
    },
    {
      "cell_type": "code",
      "metadata": {
        "id": "dZdLo1Dd3z4N",
        "colab_type": "code",
        "colab": {
          "base_uri": "https://localhost:8080/",
          "height": 295
        },
        "outputId": "0e79393d-7658-4842-f2c7-11fbcfc37877"
      },
      "source": [
        "embedding_dim = 16\n",
        "model = tf.keras.Sequential([\n",
        "    tf.keras.layers.Embedding(10000, embedding_dim, input_length=100),\n",
        "    tf.keras.layers.Flatten(),\n",
        "    tf.keras.layers.Dense(24, activation='relu'),\n",
        "    tf.keras.layers.Dense(1, activation='sigmoid')\n",
        "])\n",
        "model.compile(loss='binary_crossentropy',optimizer='adam',metrics=['accuracy'])\n",
        "model.summary()"
      ],
      "execution_count": 29,
      "outputs": [
        {
          "output_type": "stream",
          "text": [
            "Model: \"sequential_3\"\n",
            "_________________________________________________________________\n",
            "Layer (type)                 Output Shape              Param #   \n",
            "=================================================================\n",
            "embedding_3 (Embedding)      (None, 100, 16)           160000    \n",
            "_________________________________________________________________\n",
            "flatten_1 (Flatten)          (None, 1600)              0         \n",
            "_________________________________________________________________\n",
            "dense_6 (Dense)              (None, 24)                38424     \n",
            "_________________________________________________________________\n",
            "dense_7 (Dense)              (None, 1)                 25        \n",
            "=================================================================\n",
            "Total params: 198,449\n",
            "Trainable params: 198,449\n",
            "Non-trainable params: 0\n",
            "_________________________________________________________________\n"
          ],
          "name": "stdout"
        }
      ]
    },
    {
      "cell_type": "code",
      "metadata": {
        "id": "az0Kt2Ky38rn",
        "colab_type": "code",
        "colab": {
          "base_uri": "https://localhost:8080/",
          "height": 1000
        },
        "outputId": "b895917f-4e27-47ab-b070-fd6aa4709e19"
      },
      "source": [
        "training_padded = np.array(training_padded)\n",
        "training_labels = np.array(training_labels)\n",
        "testing_padded = np.array(testing_padded)\n",
        "testing_labels = np.array(testing_labels)\n",
        "# Training the model\n",
        "num_epochs = 30\n",
        "history = model.fit(training_padded, training_labels, epochs=num_epochs, validation_data=(testing_padded, testing_labels), verbose=2)"
      ],
      "execution_count": 30,
      "outputs": [
        {
          "output_type": "stream",
          "text": [
            "Epoch 1/30\n",
            "626/626 - 2s - loss: 0.4546 - accuracy: 0.7679 - val_loss: 0.3319 - val_accuracy: 0.8561\n",
            "Epoch 2/30\n",
            "626/626 - 2s - loss: 0.2214 - accuracy: 0.9118 - val_loss: 0.3209 - val_accuracy: 0.8627\n",
            "Epoch 3/30\n",
            "626/626 - 2s - loss: 0.1291 - accuracy: 0.9548 - val_loss: 0.3561 - val_accuracy: 0.8622\n",
            "Epoch 4/30\n",
            "626/626 - 2s - loss: 0.0710 - accuracy: 0.9796 - val_loss: 0.4116 - val_accuracy: 0.8588\n",
            "Epoch 5/30\n",
            "626/626 - 2s - loss: 0.0334 - accuracy: 0.9915 - val_loss: 0.4736 - val_accuracy: 0.8553\n",
            "Epoch 6/30\n",
            "626/626 - 2s - loss: 0.0156 - accuracy: 0.9974 - val_loss: 0.5439 - val_accuracy: 0.8523\n",
            "Epoch 7/30\n",
            "626/626 - 2s - loss: 0.0073 - accuracy: 0.9990 - val_loss: 0.6056 - val_accuracy: 0.8504\n",
            "Epoch 8/30\n",
            "626/626 - 2s - loss: 0.0040 - accuracy: 0.9995 - val_loss: 0.6541 - val_accuracy: 0.8486\n",
            "Epoch 9/30\n",
            "626/626 - 2s - loss: 0.0026 - accuracy: 0.9996 - val_loss: 0.7079 - val_accuracy: 0.8484\n",
            "Epoch 10/30\n",
            "626/626 - 2s - loss: 0.0021 - accuracy: 0.9996 - val_loss: 0.7405 - val_accuracy: 0.8499\n",
            "Epoch 11/30\n",
            "626/626 - 2s - loss: 0.0017 - accuracy: 0.9996 - val_loss: 0.7803 - val_accuracy: 0.8474\n",
            "Epoch 12/30\n",
            "626/626 - 2s - loss: 0.0014 - accuracy: 0.9996 - val_loss: 0.8111 - val_accuracy: 0.8474\n",
            "Epoch 13/30\n",
            "626/626 - 2s - loss: 0.0013 - accuracy: 0.9997 - val_loss: 0.8619 - val_accuracy: 0.8451\n",
            "Epoch 14/30\n",
            "626/626 - 2s - loss: 0.0014 - accuracy: 0.9996 - val_loss: 0.9044 - val_accuracy: 0.8456\n",
            "Epoch 15/30\n",
            "626/626 - 2s - loss: 0.0011 - accuracy: 0.9996 - val_loss: 0.9329 - val_accuracy: 0.8444\n",
            "Epoch 16/30\n",
            "626/626 - 2s - loss: 0.0011 - accuracy: 0.9997 - val_loss: 0.9683 - val_accuracy: 0.8448\n",
            "Epoch 17/30\n",
            "626/626 - 2s - loss: 9.7084e-04 - accuracy: 0.9998 - val_loss: 1.0240 - val_accuracy: 0.8423\n",
            "Epoch 18/30\n",
            "626/626 - 2s - loss: 0.0013 - accuracy: 0.9997 - val_loss: 1.0462 - val_accuracy: 0.8454\n",
            "Epoch 19/30\n",
            "626/626 - 2s - loss: 0.0011 - accuracy: 0.9996 - val_loss: 1.0862 - val_accuracy: 0.8444\n",
            "Epoch 20/30\n",
            "626/626 - 2s - loss: 7.1361e-04 - accuracy: 0.9997 - val_loss: 1.1439 - val_accuracy: 0.8424\n",
            "Epoch 21/30\n",
            "626/626 - 2s - loss: 7.0669e-04 - accuracy: 0.9998 - val_loss: 1.2219 - val_accuracy: 0.8354\n",
            "Epoch 22/30\n",
            "626/626 - 2s - loss: 9.5086e-04 - accuracy: 0.9997 - val_loss: 1.1914 - val_accuracy: 0.8430\n",
            "Epoch 23/30\n",
            "626/626 - 2s - loss: 9.0516e-04 - accuracy: 0.9997 - val_loss: 1.1886 - val_accuracy: 0.8420\n",
            "Epoch 24/30\n",
            "626/626 - 2s - loss: 7.1402e-04 - accuracy: 0.9997 - val_loss: 1.2557 - val_accuracy: 0.8386\n",
            "Epoch 25/30\n",
            "626/626 - 2s - loss: 0.0010 - accuracy: 0.9996 - val_loss: 1.1968 - val_accuracy: 0.8400\n",
            "Epoch 26/30\n",
            "626/626 - 2s - loss: 7.3769e-04 - accuracy: 0.9998 - val_loss: 1.1999 - val_accuracy: 0.8406\n",
            "Epoch 27/30\n",
            "626/626 - 2s - loss: 7.4096e-04 - accuracy: 0.9996 - val_loss: 1.2198 - val_accuracy: 0.8393\n",
            "Epoch 28/30\n",
            "626/626 - 2s - loss: 5.8710e-04 - accuracy: 0.9997 - val_loss: 1.3294 - val_accuracy: 0.8384\n",
            "Epoch 29/30\n",
            "626/626 - 2s - loss: 0.0011 - accuracy: 0.9996 - val_loss: 1.2727 - val_accuracy: 0.8436\n",
            "Epoch 30/30\n",
            "626/626 - 2s - loss: 7.7725e-04 - accuracy: 0.9996 - val_loss: 1.2569 - val_accuracy: 0.8421\n"
          ],
          "name": "stdout"
        }
      ]
    },
    {
      "cell_type": "code",
      "metadata": {
        "id": "VAa_kHRz4wBW",
        "colab_type": "code",
        "colab": {
          "base_uri": "https://localhost:8080/",
          "height": 541
        },
        "outputId": "3757be18-8d18-4462-8e93-42bd67246e4f"
      },
      "source": [
        "import matplotlib.pyplot as plt\n",
        "\n",
        "def plot_graphs(history,string):\n",
        "  plt.plot(history.history[string])\n",
        "  plt.plot(history.history['val_'+string])\n",
        "  plt.xlabel(\"Epochs\")\n",
        "  plt.ylabel(string)\n",
        "  plt.legend([string,'val_'+string])\n",
        "  plt.show()\n",
        "\n",
        "plot_graphs(history,\"accuracy\")\n",
        "plot_graphs(history,\"loss\")\n"
      ],
      "execution_count": 31,
      "outputs": [
        {
          "output_type": "display_data",
          "data": {
            "image/png": "[encoded data removed]",
            "text/plain": [
              "<Figure size 432x288 with 1 Axes>"
            ]
          },
          "metadata": {
            "tags": [],
            "needs_background": "light"
          }
        },
        {
          "output_type": "display_data",
          "data": {
            "image/png": "[encoded data removed]",
            "text/plain": [
              "<Figure size 432x288 with 1 Axes>"
            ]
          },
          "metadata": {
            "tags": [],
            "needs_background": "light"
          }
        }
      ]
    },
    {
      "cell_type": "markdown",
      "metadata": {
        "id": "7H4DJklE-SL1",
        "colab_type": "text"
      },
      "source": [
        "With Bidirectional LSTM"
      ]
    },
    {
      "cell_type": "code",
      "metadata": {
        "id": "llT2y5bd58TM",
        "colab_type": "code",
        "colab": {
          "base_uri": "https://localhost:8080/",
          "height": 295
        },
        "outputId": "89c4c4e6-daa0-41f8-8732-d2710b126079"
      },
      "source": [
        "embedding_dim = 16\n",
        "model = tf.keras.Sequential([\n",
        "    tf.keras.layers.Embedding(10000, embedding_dim, input_length=100),\n",
        "    tf.keras.layers.Bidirectional(tf.keras.layers.LSTM(32)),\n",
        "    tf.keras.layers.Dense(24, activation='relu'),\n",
        "    tf.keras.layers.Dense(1, activation='sigmoid')\n",
        "])\n",
        "model.compile(loss='binary_crossentropy',optimizer='adam',metrics=['accuracy'])\n",
        "model.summary()"
      ],
      "execution_count": 32,
      "outputs": [
        {
          "output_type": "stream",
          "text": [
            "Model: \"sequential_4\"\n",
            "_________________________________________________________________\n",
            "Layer (type)                 Output Shape              Param #   \n",
            "=================================================================\n",
            "embedding_4 (Embedding)      (None, 100, 16)           160000    \n",
            "_________________________________________________________________\n",
            "bidirectional_1 (Bidirection (None, 64)                12544     \n",
            "_________________________________________________________________\n",
            "dense_8 (Dense)              (None, 24)                1560      \n",
            "_________________________________________________________________\n",
            "dense_9 (Dense)              (None, 1)                 25        \n",
            "=================================================================\n",
            "Total params: 174,129\n",
            "Trainable params: 174,129\n",
            "Non-trainable params: 0\n",
            "_________________________________________________________________\n"
          ],
          "name": "stdout"
        }
      ]
    },
    {
      "cell_type": "code",
      "metadata": {
        "id": "edL2yn0l6WxE",
        "colab_type": "code",
        "colab": {
          "base_uri": "https://localhost:8080/",
          "height": 1000
        },
        "outputId": "903788af-f3b0-444d-9b4b-a62c64000cee"
      },
      "source": [
        "training_padded = np.array(training_padded)\n",
        "training_labels = np.array(training_labels)\n",
        "testing_padded = np.array(testing_padded)\n",
        "testing_labels = np.array(testing_labels)\n",
        "# Training the model\n",
        "num_epochs = 30\n",
        "history = model.fit(training_padded, training_labels, epochs=num_epochs, validation_data=(testing_padded, testing_labels), verbose=2)"
      ],
      "execution_count": 33,
      "outputs": [
        {
          "output_type": "stream",
          "text": [
            "Epoch 1/30\n",
            "626/626 - 30s - loss: 0.4217 - accuracy: 0.7915 - val_loss: 0.3283 - val_accuracy: 0.8570\n",
            "Epoch 2/30\n",
            "626/626 - 29s - loss: 0.2246 - accuracy: 0.9078 - val_loss: 0.3428 - val_accuracy: 0.8582\n",
            "Epoch 3/30\n",
            "626/626 - 30s - loss: 0.1492 - accuracy: 0.9442 - val_loss: 0.3810 - val_accuracy: 0.8526\n",
            "Epoch 4/30\n",
            "626/626 - 30s - loss: 0.0942 - accuracy: 0.9669 - val_loss: 0.4609 - val_accuracy: 0.8471\n",
            "Epoch 5/30\n",
            "626/626 - 30s - loss: 0.0596 - accuracy: 0.9804 - val_loss: 0.5525 - val_accuracy: 0.8402\n",
            "Epoch 6/30\n",
            "626/626 - 30s - loss: 0.0386 - accuracy: 0.9880 - val_loss: 0.6269 - val_accuracy: 0.8415\n",
            "Epoch 7/30\n",
            "626/626 - 30s - loss: 0.0250 - accuracy: 0.9924 - val_loss: 0.7993 - val_accuracy: 0.8357\n",
            "Epoch 8/30\n",
            "626/626 - 29s - loss: 0.0180 - accuracy: 0.9947 - val_loss: 0.8891 - val_accuracy: 0.8383\n",
            "Epoch 9/30\n",
            "626/626 - 30s - loss: 0.0133 - accuracy: 0.9963 - val_loss: 0.9085 - val_accuracy: 0.8380\n",
            "Epoch 10/30\n",
            "626/626 - 30s - loss: 0.0109 - accuracy: 0.9971 - val_loss: 0.9057 - val_accuracy: 0.8327\n",
            "Epoch 11/30\n",
            "626/626 - 29s - loss: 0.0112 - accuracy: 0.9966 - val_loss: 0.9588 - val_accuracy: 0.8315\n",
            "Epoch 12/30\n",
            "626/626 - 29s - loss: 0.0087 - accuracy: 0.9972 - val_loss: 0.9579 - val_accuracy: 0.8330\n",
            "Epoch 13/30\n",
            "626/626 - 29s - loss: 0.0066 - accuracy: 0.9980 - val_loss: 1.1049 - val_accuracy: 0.8311\n",
            "Epoch 14/30\n",
            "626/626 - 29s - loss: 0.0044 - accuracy: 0.9988 - val_loss: 1.2255 - val_accuracy: 0.8278\n",
            "Epoch 15/30\n",
            "626/626 - 30s - loss: 0.0060 - accuracy: 0.9979 - val_loss: 1.1503 - val_accuracy: 0.8288\n",
            "Epoch 16/30\n",
            "626/626 - 30s - loss: 0.0054 - accuracy: 0.9981 - val_loss: 1.2290 - val_accuracy: 0.8266\n",
            "Epoch 17/30\n",
            "626/626 - 29s - loss: 0.0044 - accuracy: 0.9987 - val_loss: 1.3271 - val_accuracy: 0.8249\n",
            "Epoch 18/30\n",
            "626/626 - 29s - loss: 0.0025 - accuracy: 0.9992 - val_loss: 1.4046 - val_accuracy: 0.8252\n",
            "Epoch 19/30\n",
            "626/626 - 29s - loss: 0.0019 - accuracy: 0.9995 - val_loss: 1.5144 - val_accuracy: 0.8230\n",
            "Epoch 20/30\n",
            "626/626 - 29s - loss: 0.0016 - accuracy: 0.9996 - val_loss: 1.5294 - val_accuracy: 0.8209\n",
            "Epoch 21/30\n",
            "626/626 - 29s - loss: 0.0011 - accuracy: 0.9997 - val_loss: 1.5971 - val_accuracy: 0.8177\n",
            "Epoch 22/30\n",
            "626/626 - 29s - loss: 0.0057 - accuracy: 0.9984 - val_loss: 1.3968 - val_accuracy: 0.8227\n",
            "Epoch 23/30\n",
            "626/626 - 29s - loss: 0.0051 - accuracy: 0.9985 - val_loss: 1.2334 - val_accuracy: 0.8273\n",
            "Epoch 24/30\n",
            "626/626 - 29s - loss: 0.0016 - accuracy: 0.9997 - val_loss: 1.4247 - val_accuracy: 0.8240\n",
            "Epoch 25/30\n",
            "626/626 - 29s - loss: 0.0016 - accuracy: 0.9995 - val_loss: 1.4223 - val_accuracy: 0.8231\n",
            "Epoch 26/30\n",
            "626/626 - 30s - loss: 0.0017 - accuracy: 0.9993 - val_loss: 1.4305 - val_accuracy: 0.8224\n",
            "Epoch 27/30\n",
            "626/626 - 30s - loss: 0.0079 - accuracy: 0.9976 - val_loss: 1.2154 - val_accuracy: 0.8201\n",
            "Epoch 28/30\n",
            "626/626 - 29s - loss: 0.0030 - accuracy: 0.9987 - val_loss: 1.3152 - val_accuracy: 0.8213\n",
            "Epoch 29/30\n",
            "626/626 - 29s - loss: 0.0014 - accuracy: 0.9996 - val_loss: 1.3940 - val_accuracy: 0.8188\n",
            "Epoch 30/30\n",
            "626/626 - 29s - loss: 0.0011 - accuracy: 0.9997 - val_loss: 1.4173 - val_accuracy: 0.8201\n"
          ],
          "name": "stdout"
        }
      ]
    },
    {
      "cell_type": "code",
      "metadata": {
        "id": "JlkPOgHq9_Ir",
        "colab_type": "code",
        "colab": {
          "base_uri": "https://localhost:8080/",
          "height": 541
        },
        "outputId": "8b34f6eb-8b69-4a36-ca67-23f6c7c813d0"
      },
      "source": [
        "import matplotlib.pyplot as plt\n",
        "\n",
        "def plot_graphs(history,string):\n",
        "  plt.plot(history.history[string])\n",
        "  plt.plot(history.history['val_'+string])\n",
        "  plt.xlabel(\"Epochs\")\n",
        "  plt.ylabel(string)\n",
        "  plt.legend([string,'val_'+string])\n",
        "  plt.show()\n",
        "\n",
        "plot_graphs(history,\"accuracy\")\n",
        "plot_graphs(history,\"loss\")\n"
      ],
      "execution_count": 34,
      "outputs": [
        {
          "output_type": "display_data",
          "data": {
            "image/png": "[encoded data removed]",
            "text/plain": [
              "<Figure size 432x288 with 1 Axes>"
            ]
          },
          "metadata": {
            "tags": [],
            "needs_background": "light"
          }
        },
        {
          "output_type": "display_data",
          "data": {
            "image/png": "[encoded data removed]",
            "text/plain": [
              "<Figure size 432x288 with 1 Axes>"
            ]
          },
          "metadata": {
            "tags": [],
            "needs_background": "light"
          }
        }
      ]
    },
    {
      "cell_type": "code",
      "metadata": {
        "id": "31kNECx_-y4x",
        "colab_type": "code",
        "colab": {
          "base_uri": "https://localhost:8080/",
          "height": 329
        },
        "outputId": "5fd7d858-39b1-4a0a-b1f4-3f79c62179ce"
      },
      "source": [
        "embedding_dim = 16\n",
        "model = tf.keras.Sequential([\n",
        "    tf.keras.layers.Embedding(10000, embedding_dim, input_length=100),\n",
        "    tf.keras.layers.Conv1D(128,5,activation='relu'),\n",
        "    tf.keras.layers.GlobalMaxPooling1D(),\n",
        "    tf.keras.layers.Dense(24, activation='relu'),\n",
        "    tf.keras.layers.Dense(1, activation='sigmoid')\n",
        "])\n",
        "model.compile(loss='binary_crossentropy',optimizer='adam',metrics=['accuracy'])\n",
        "model.summary()"
      ],
      "execution_count": 35,
      "outputs": [
        {
          "output_type": "stream",
          "text": [
            "Model: \"sequential_5\"\n",
            "_________________________________________________________________\n",
            "Layer (type)                 Output Shape              Param #   \n",
            "=================================================================\n",
            "embedding_5 (Embedding)      (None, 100, 16)           160000    \n",
            "_________________________________________________________________\n",
            "conv1d_1 (Conv1D)            (None, 96, 128)           10368     \n",
            "_________________________________________________________________\n",
            "global_max_pooling1d_1 (Glob (None, 128)               0         \n",
            "_________________________________________________________________\n",
            "dense_10 (Dense)             (None, 24)                3096      \n",
            "_________________________________________________________________\n",
            "dense_11 (Dense)             (None, 1)                 25        \n",
            "=================================================================\n",
            "Total params: 173,489\n",
            "Trainable params: 173,489\n",
            "Non-trainable params: 0\n",
            "_________________________________________________________________\n"
          ],
          "name": "stdout"
        }
      ]
    },
    {
      "cell_type": "code",
      "metadata": {
        "id": "Z_SSiB8k_Jhf",
        "colab_type": "code",
        "colab": {
          "base_uri": "https://localhost:8080/",
          "height": 1000
        },
        "outputId": "479db649-e38d-46f0-cd70-8e27c8298cd4"
      },
      "source": [
        "training_padded = np.array(training_padded)\n",
        "training_labels = np.array(training_labels)\n",
        "testing_padded = np.array(testing_padded)\n",
        "testing_labels = np.array(testing_labels)\n",
        "# Training the model\n",
        "num_epochs = 30\n",
        "history = model.fit(training_padded, training_labels, epochs=num_epochs, validation_data=(testing_padded, testing_labels), verbose=2)"
      ],
      "execution_count": 36,
      "outputs": [
        {
          "output_type": "stream",
          "text": [
            "Epoch 1/30\n",
            "626/626 - 7s - loss: 0.4415 - accuracy: 0.7785 - val_loss: 0.3652 - val_accuracy: 0.8393\n",
            "Epoch 2/30\n",
            "626/626 - 7s - loss: 0.2301 - accuracy: 0.9089 - val_loss: 0.3672 - val_accuracy: 0.8486\n",
            "Epoch 3/30\n",
            "626/626 - 7s - loss: 0.1218 - accuracy: 0.9573 - val_loss: 0.4464 - val_accuracy: 0.8384\n",
            "Epoch 4/30\n",
            "626/626 - 7s - loss: 0.0499 - accuracy: 0.9849 - val_loss: 0.5735 - val_accuracy: 0.8363\n",
            "Epoch 5/30\n",
            "626/626 - 7s - loss: 0.0187 - accuracy: 0.9951 - val_loss: 0.7243 - val_accuracy: 0.8368\n",
            "Epoch 6/30\n",
            "626/626 - 7s - loss: 0.0072 - accuracy: 0.9984 - val_loss: 0.8127 - val_accuracy: 0.8335\n",
            "Epoch 7/30\n",
            "626/626 - 7s - loss: 0.0032 - accuracy: 0.9992 - val_loss: 0.9021 - val_accuracy: 0.8336\n",
            "Epoch 8/30\n",
            "626/626 - 7s - loss: 0.0017 - accuracy: 0.9997 - val_loss: 0.9897 - val_accuracy: 0.8351\n",
            "Epoch 9/30\n",
            "626/626 - 7s - loss: 0.0013 - accuracy: 0.9995 - val_loss: 1.0402 - val_accuracy: 0.8323\n",
            "Epoch 10/30\n",
            "626/626 - 7s - loss: 0.0012 - accuracy: 0.9997 - val_loss: 1.0978 - val_accuracy: 0.8306\n",
            "Epoch 11/30\n",
            "626/626 - 7s - loss: 0.0013 - accuracy: 0.9995 - val_loss: 1.1912 - val_accuracy: 0.8338\n",
            "Epoch 12/30\n",
            "626/626 - 7s - loss: 0.0056 - accuracy: 0.9984 - val_loss: 1.3630 - val_accuracy: 0.8240\n",
            "Epoch 13/30\n",
            "626/626 - 7s - loss: 0.0105 - accuracy: 0.9970 - val_loss: 1.2820 - val_accuracy: 0.8282\n",
            "Epoch 14/30\n",
            "626/626 - 7s - loss: 0.0071 - accuracy: 0.9971 - val_loss: 1.3198 - val_accuracy: 0.8242\n",
            "Epoch 15/30\n",
            "626/626 - 7s - loss: 0.0039 - accuracy: 0.9986 - val_loss: 1.3309 - val_accuracy: 0.8254\n",
            "Epoch 16/30\n",
            "626/626 - 7s - loss: 9.6538e-04 - accuracy: 0.9997 - val_loss: 1.3712 - val_accuracy: 0.8275\n",
            "Epoch 17/30\n",
            "626/626 - 7s - loss: 7.3230e-04 - accuracy: 0.9996 - val_loss: 1.3892 - val_accuracy: 0.8273\n",
            "Epoch 18/30\n",
            "626/626 - 7s - loss: 7.5290e-04 - accuracy: 0.9997 - val_loss: 1.4253 - val_accuracy: 0.8279\n",
            "Epoch 19/30\n",
            "626/626 - 7s - loss: 6.7873e-04 - accuracy: 0.9998 - val_loss: 1.5029 - val_accuracy: 0.8236\n",
            "Epoch 20/30\n",
            "626/626 - 7s - loss: 7.3468e-04 - accuracy: 0.9997 - val_loss: 1.4639 - val_accuracy: 0.8245\n",
            "Epoch 21/30\n",
            "626/626 - 7s - loss: 6.3552e-04 - accuracy: 0.9997 - val_loss: 1.4870 - val_accuracy: 0.8236\n",
            "Epoch 22/30\n",
            "626/626 - 7s - loss: 6.1544e-04 - accuracy: 0.9998 - val_loss: 1.5359 - val_accuracy: 0.8243\n",
            "Epoch 23/30\n",
            "626/626 - 7s - loss: 5.6063e-04 - accuracy: 0.9998 - val_loss: 1.5440 - val_accuracy: 0.8227\n",
            "Epoch 24/30\n",
            "626/626 - 7s - loss: 5.7018e-04 - accuracy: 0.9998 - val_loss: 1.6107 - val_accuracy: 0.8225\n",
            "Epoch 25/30\n",
            "626/626 - 7s - loss: 3.9404e-04 - accuracy: 0.9999 - val_loss: 1.6625 - val_accuracy: 0.8207\n",
            "Epoch 26/30\n",
            "626/626 - 7s - loss: 5.2742e-04 - accuracy: 0.9997 - val_loss: 1.6821 - val_accuracy: 0.8230\n",
            "Epoch 27/30\n",
            "626/626 - 7s - loss: 0.0029 - accuracy: 0.9989 - val_loss: 1.8545 - val_accuracy: 0.8165\n",
            "Epoch 28/30\n",
            "626/626 - 7s - loss: 0.0062 - accuracy: 0.9976 - val_loss: 1.7560 - val_accuracy: 0.8236\n",
            "Epoch 29/30\n",
            "626/626 - 7s - loss: 0.0022 - accuracy: 0.9990 - val_loss: 1.7702 - val_accuracy: 0.8270\n",
            "Epoch 30/30\n",
            "626/626 - 7s - loss: 7.4894e-04 - accuracy: 0.9995 - val_loss: 1.7666 - val_accuracy: 0.8278\n"
          ],
          "name": "stdout"
        }
      ]
    },
    {
      "cell_type": "code",
      "metadata": {
        "id": "4WocAauMAh0Z",
        "colab_type": "code",
        "colab": {
          "base_uri": "https://localhost:8080/",
          "height": 541
        },
        "outputId": "6cdb613d-0a0a-462c-85a8-4d6df032fe1d"
      },
      "source": [
        "import matplotlib.pyplot as plt\n",
        "\n",
        "def plot_graphs(history,string):\n",
        "  plt.plot(history.history[string])\n",
        "  plt.plot(history.history['val_'+string])\n",
        "  plt.xlabel(\"Epochs\")\n",
        "  plt.ylabel(string)\n",
        "  plt.legend([string,'val_'+string])\n",
        "  plt.show()\n",
        "\n",
        "plot_graphs(history,\"accuracy\")\n",
        "plot_graphs(history,\"loss\")"
      ],
      "execution_count": 37,
      "outputs": [
        {
          "output_type": "display_data",
          "data": {
            "image/png": "[encoded data removed]",
            "text/plain": [
              "<Figure size 432x288 with 1 Axes>"
            ]
          },
          "metadata": {
            "tags": [],
            "needs_background": "light"
          }
        },
        {
          "output_type": "display_data",
          "data": {
            "image/png": "[encoded data removed]",
            "text/plain": [
              "<Figure size 432x288 with 1 Axes>"
            ]
          },
          "metadata": {
            "tags": [],
            "needs_background": "light"
          }
        }
      ]
    }
  ]
}